{
  "nbformat": 4,
  "nbformat_minor": 0,
  "metadata": {
    "colab": {
      "name": "Copy of Untitled8.ipynb",
      "provenance": [],
      "collapsed_sections": []
    },
    "kernelspec": {
      "name": "python3",
      "display_name": "Python 3"
    },
    "language_info": {
      "name": "python"
    }
  },
  "cells": [
    {
      "cell_type": "markdown",
      "metadata": {
        "id": "_eECdt9tleno"
      },
      "source": [
        "# ***The Sparks Foundation***  #GRIPMAY2021\n",
        "## **Task 1** - Prediction using Supervised ML\n"
      ]
    },
    {
      "cell_type": "markdown",
      "metadata": {
        "id": "lfoVdVyKmjVi"
      },
      "source": [
        "**By Tai Mohammed Moheed**"
      ]
    },
    {
      "cell_type": "markdown",
      "metadata": {
        "id": "yIk58s61nw8b"
      },
      "source": [
        "##Improting The Libraries"
      ]
    },
    {
      "cell_type": "code",
      "metadata": {
        "id": "rdoO7JekktoG"
      },
      "source": [
        "import pandas as pd\n",
        "import numpy as np\n",
        "import matplotlib.pyplot as plt"
      ],
      "execution_count": null,
      "outputs": []
    },
    {
      "cell_type": "markdown",
      "metadata": {
        "id": "RDg-kqKeoHmZ"
      },
      "source": [
        "## Importing the Dataset."
      ]
    },
    {
      "cell_type": "code",
      "metadata": {
        "id": "1dEvE6AHoBA3"
      },
      "source": [
        "link = \"http://bit.ly/w-data\"\n",
        "dataset = pd.read_csv(link)\n",
        "#Assigning X as Number of Hours studied.\n",
        "X = dataset.iloc[:, :-1].values\n",
        "#Assigning Y as Marks Scored.\n",
        "y = dataset.iloc[:, -1].values"
      ],
      "execution_count": null,
      "outputs": []
    },
    {
      "cell_type": "markdown",
      "metadata": {
        "id": "Q2oxMJCLo3sy"
      },
      "source": [
        "## Preview of Dataset"
      ]
    },
    {
      "cell_type": "code",
      "metadata": {
        "colab": {
          "base_uri": "https://localhost:8080/",
          "height": 204
        },
        "id": "nAx9jGASo7w0",
        "outputId": "4e662dc3-f433-4381-cde8-4a294e2f1739"
      },
      "source": [
        "dataset.head()"
      ],
      "execution_count": null,
      "outputs": [
        {
          "output_type": "execute_result",
          "data": {
            "text/html": [
              "<div>\n",
              "<style scoped>\n",
              "    .dataframe tbody tr th:only-of-type {\n",
              "        vertical-align: middle;\n",
              "    }\n",
              "\n",
              "    .dataframe tbody tr th {\n",
              "        vertical-align: top;\n",
              "    }\n",
              "\n",
              "    .dataframe thead th {\n",
              "        text-align: right;\n",
              "    }\n",
              "</style>\n",
              "<table border=\"1\" class=\"dataframe\">\n",
              "  <thead>\n",
              "    <tr style=\"text-align: right;\">\n",
              "      <th></th>\n",
              "      <th>Hours</th>\n",
              "      <th>Scores</th>\n",
              "    </tr>\n",
              "  </thead>\n",
              "  <tbody>\n",
              "    <tr>\n",
              "      <th>0</th>\n",
              "      <td>2.5</td>\n",
              "      <td>21</td>\n",
              "    </tr>\n",
              "    <tr>\n",
              "      <th>1</th>\n",
              "      <td>5.1</td>\n",
              "      <td>47</td>\n",
              "    </tr>\n",
              "    <tr>\n",
              "      <th>2</th>\n",
              "      <td>3.2</td>\n",
              "      <td>27</td>\n",
              "    </tr>\n",
              "    <tr>\n",
              "      <th>3</th>\n",
              "      <td>8.5</td>\n",
              "      <td>75</td>\n",
              "    </tr>\n",
              "    <tr>\n",
              "      <th>4</th>\n",
              "      <td>3.5</td>\n",
              "      <td>30</td>\n",
              "    </tr>\n",
              "  </tbody>\n",
              "</table>\n",
              "</div>"
            ],
            "text/plain": [
              "   Hours  Scores\n",
              "0    2.5      21\n",
              "1    5.1      47\n",
              "2    3.2      27\n",
              "3    8.5      75\n",
              "4    3.5      30"
            ]
          },
          "metadata": {
            "tags": []
          },
          "execution_count": 5
        }
      ]
    },
    {
      "cell_type": "markdown",
      "metadata": {
        "id": "PPWLOXnZp8pL"
      },
      "source": [
        "## Splitting the dataset into the Training set and Test set"
      ]
    },
    {
      "cell_type": "code",
      "metadata": {
        "id": "3bYVbwbQpTnt"
      },
      "source": [
        "from sklearn.model_selection import train_test_split\n",
        "X_train, X_test, y_train, y_test = train_test_split(X, y, test_size = 0.2, random_state = 0)"
      ],
      "execution_count": null,
      "outputs": []
    },
    {
      "cell_type": "markdown",
      "metadata": {
        "id": "uqt727MaqzQl"
      },
      "source": [
        "## Training the Simple Linear Regression model on the Training set."
      ]
    },
    {
      "cell_type": "code",
      "metadata": {
        "colab": {
          "base_uri": "https://localhost:8080/"
        },
        "id": "jwWK1N9jqRwZ",
        "outputId": "87b735ee-4b87-4d30-e67e-d9fdae687894"
      },
      "source": [
        "from sklearn.linear_model import LinearRegression\n",
        "regressor = LinearRegression()\n",
        "model = regressor.fit(X_train, y_train)\n",
        "print(model)"
      ],
      "execution_count": null,
      "outputs": [
        {
          "output_type": "stream",
          "text": [
            "LinearRegression(copy_X=True, fit_intercept=True, n_jobs=None, normalize=False)\n"
          ],
          "name": "stdout"
        }
      ]
    },
    {
      "cell_type": "markdown",
      "metadata": {
        "id": "v6QrpVkGrhFb"
      },
      "source": [
        "## Predicting the Test set results"
      ]
    },
    {
      "cell_type": "code",
      "metadata": {
        "colab": {
          "base_uri": "https://localhost:8080/"
        },
        "id": "CnnMEpuhrltZ",
        "outputId": "8695063e-4a7f-42e0-cadc-4aa57d2b2a3d"
      },
      "source": [
        "y_pred = regressor.predict(X_test)\n",
        "print(y_pred)"
      ],
      "execution_count": null,
      "outputs": [
        {
          "output_type": "stream",
          "text": [
            "[16.88414476 33.73226078 75.357018   26.79480124 60.49103328]\n"
          ],
          "name": "stdout"
        }
      ]
    },
    {
      "cell_type": "markdown",
      "metadata": {
        "id": "nYjbCXEyr9rf"
      },
      "source": [
        "## Visualising the Training set results"
      ]
    },
    {
      "cell_type": "code",
      "metadata": {
        "colab": {
          "base_uri": "https://localhost:8080/",
          "height": 295
        },
        "id": "3gLQzEZgr-jb",
        "outputId": "8b0a6b68-0094-4fbb-d3e0-728109e2bb8f"
      },
      "source": [
        "plt.scatter(X_train, y_train, color = \"red\")\n",
        "plt.plot(X_train, regressor.predict(X_train), color = 'blue')\n",
        "plt.title(\"No. of hours Against Scores Scored by Student.(Training Dataset)\")\n",
        "plt.xlabel(\"No. Of Hours Student Studied\")\n",
        "plt.ylabel(\"Marks Scored By Student\")\n",
        "plt.show()"
      ],
      "execution_count": null,
      "outputs": [
        {
          "output_type": "display_data",
          "data": {
            "image/png": "[encoded data removed]",
            "text/plain": [
              "<Figure size 432x288 with 1 Axes>"
            ]
          },
          "metadata": {
            "tags": [],
            "needs_background": "light"
          }
        }
      ]
    },
    {
      "cell_type": "markdown",
      "metadata": {
        "id": "6LT3MbJ9tXmd"
      },
      "source": [
        "As, We can see from the above graph Linear regression is best fitted for the training data set as all the red dots(training dataset) is closed to the blue line (Regression Line). Hence, the model is assumed to be the best fit."
      ]
    },
    {
      "cell_type": "markdown",
      "metadata": {
        "id": "QsbMhFJiuFLZ"
      },
      "source": [
        "## Visualising the Test set results"
      ]
    },
    {
      "cell_type": "code",
      "metadata": {
        "colab": {
          "base_uri": "https://localhost:8080/",
          "height": 295
        },
        "id": "IByBxwZctvmj",
        "outputId": "8754282b-bad4-4253-b292-c30f2eeeefe1"
      },
      "source": [
        "plt.scatter(X_test, y_test, color = \"red\")\n",
        "plt.plot(X_test, regressor.predict(X_test), color = 'blue')\n",
        "plt.title(\"No. of hours Against Scores Scored by Student.(Test Dataset)\")\n",
        "plt.xlabel(\"No. Of Hours Student Studied\")\n",
        "plt.ylabel(\"Marks Scored By Student\")\n",
        "plt.show()"
      ],
      "execution_count": null,
      "outputs": [
        {
          "output_type": "display_data",
          "data": {
            "image/png": "[encoded data removed]",
            "text/plain": [
              "<Figure size 432x288 with 1 Axes>"
            ]
          },
          "metadata": {
            "tags": [],
            "needs_background": "light"
          }
        }
      ]
    },
    {
      "cell_type": "markdown",
      "metadata": {
        "id": "jrGiptJ7ucZw"
      },
      "source": [
        "As, We can see from the above graph Linear regression is also best fitted for the test data set as most of the red dots(test dataset) is closed to the blue line (Regression Line). Hence, the model is assumed to be the best fit."
      ]
    },
    {
      "cell_type": "markdown",
      "metadata": {
        "id": "eFdjVy_KuubO"
      },
      "source": [
        "## Linear Regression Model with Parameter."
      ]
    },
    {
      "cell_type": "code",
      "metadata": {
        "colab": {
          "base_uri": "https://localhost:8080/"
        },
        "id": "SZrCQBYPu6sT",
        "outputId": "5e6e28b0-2a10-4093-cfd5-8c0e63a62d4c"
      },
      "source": [
        "coefficient = model.coef_\n",
        "intercept = model.intercept_\n",
        "print(\"Intercept of the Linear Regression Equation is\", intercept)\n",
        "print(\"Slope of Linear Regression is\", coefficient)"
      ],
      "execution_count": null,
      "outputs": [
        {
          "output_type": "stream",
          "text": [
            "Intercept of the Linear Regression Equation is 2.018160041434662\n",
            "Slope of Linear Regression is [9.91065648]\n"
          ],
          "name": "stdout"
        }
      ]
    },
    {
      "cell_type": "markdown",
      "metadata": {
        "id": "edvYP_o4xS0m"
      },
      "source": [
        "## Calculation Coefficient of Determination (R_Squared) Value for training Dataset"
      ]
    },
    {
      "cell_type": "code",
      "metadata": {
        "colab": {
          "base_uri": "https://localhost:8080/"
        },
        "id": "MBK3chbjxbXL",
        "outputId": "8b94fd82-31c1-456d-9cf9-1143a8061349"
      },
      "source": [
        "r_square = model.score(X_train, y_train)\n",
        "print(\"Coefficient of Determination is\", r_square)"
      ],
      "execution_count": null,
      "outputs": [
        {
          "output_type": "stream",
          "text": [
            "Coefficient of Determination is 0.9515510725211553\n"
          ],
          "name": "stdout"
        }
      ]
    },
    {
      "cell_type": "code",
      "metadata": {
        "colab": {
          "base_uri": "https://localhost:8080/"
        },
        "id": "u8WZKY2ayHz4",
        "outputId": "6dc18c33-9f51-42d5-b5ca-647b2add6ccd"
      },
      "source": [
        "if r_square > 0.9:\n",
        "  print(\"The fitted simple Linear regression model is good fit for the data.\")\n",
        "else:\n",
        "  print(\"The fitted simple Linear regression model is not a good fit for the data\")"
      ],
      "execution_count": null,
      "outputs": [
        {
          "output_type": "stream",
          "text": [
            "The fitted simple Linear regression model is good fit for the data.\n"
          ],
          "name": "stdout"
        }
      ]
    },
    {
      "cell_type": "markdown",
      "metadata": {
        "id": "_j2iHnpdy6wK"
      },
      "source": [
        "As the R_Squared value is 0.9515 that is 95.15%, Hence, the obtained simple linear regression model is proved to be the best fit for the given dataset, which we already proved with the visualization."
      ]
    }
  ]
}